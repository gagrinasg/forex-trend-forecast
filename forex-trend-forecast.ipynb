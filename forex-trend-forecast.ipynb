{
  "nbformat": 4,
  "nbformat_minor": 0,
  "metadata": {
    "colab": {
      "name": "Presentation",
      "provenance": [],
      "collapsed_sections": [],
      "toc_visible": true
    },
    "kernelspec": {
      "name": "python3",
      "display_name": "Python 3.9.5 64-bit ('tensorflow2.5': conda)"
    },
    "accelerator": "GPU",
    "interpreter": {
      "hash": "550e6f13d12996ba7a1a15ebdf82bb449a593632406621aed7fd1b1dc95acc40"
    }
  },
  "cells": [
    {
      "cell_type": "markdown",
      "metadata": {
        "id": "osrxxCU8Skuh"
      },
      "source": [
        "# **Importing libraries**"
      ]
    },
    {
      "source": [
        "from __future__ import (absolute_import, division, print_function,unicode_literals)\n",
        "from sklearn.utils import shuffle\n",
        "import backtrader as bt\n",
        "import math\n",
        "import ta\n",
        "from statistics import mean\n",
        "import time\n",
        "import datetime\n",
        "import matplotlib.pyplot as plt\n",
        "import matplotlib\n",
        "from tensorflow import keras\n",
        "import pandas as pd\n",
        "import numpy as np\n",
        "import os\n",
        "import tensorflow as tf\n",
        "from tensorflow.keras.utils import to_categorical\n",
        "import tensorflow.keras.backend as K\n",
        "from tensorflow.keras.models import Sequential\n",
        "from tensorflow.keras.layers import Dense , BatchNormalization , GRU ,LeakyReLU\n",
        "from tensorflow.keras.layers import LSTM , Conv1D\n",
        "from tensorflow.keras.layers import Dropout ,Flatten \n",
        "from tensorflow.keras.layers import *\n",
        "from tensorflow.keras.metrics import RootMeanSquaredError\n",
        "from sklearn.preprocessing import MinMaxScaler,StandardScaler\n",
        "from sklearn.metrics import mean_squared_error\n",
        "from sklearn.metrics import mean_absolute_error\n",
        "from sklearn.metrics import confusion_matrix\n",
        "from sklearn.metrics import classification_report\n",
        "from sklearn.model_selection import train_test_split\n",
        "from tensorflow.keras.callbacks import EarlyStopping , ModelCheckpoint , TensorBoard\n",
        "# from imblearn.under_sampling import ClusterCentroids"
      ],
      "cell_type": "code",
      "metadata": {
        "id": "hbMKY796wy9-",
        "colab": {
          "base_uri": "https://localhost:8080/"
        },
        "outputId": "5ff0ceb2-6003-4f3d-d0c7-4899642103a9"
      },
      "execution_count": null,
      "outputs": []
    },
    {
      "cell_type": "markdown",
      "metadata": {
        "id": "rpdjj43R2svk"
      },
      "source": [
        "# **Loading Dataset**"
      ]
    },
    {
      "cell_type": "code",
      "execution_count": null,
      "metadata": {},
      "outputs": [],
      "source": [
        "base_dir = os.getcwd()\n",
        "minute_data = os.path.join(base_dir,'eurusd_minute.csv')"
      ]
    },
    {
      "cell_type": "code",
      "metadata": {
        "id": "Yh9i7cRb3hYL"
      },
      "source": [
        "df = pd.read_csv(minute_data,usecols = ['Date', 'Time' ,'BO','BH','BL','BC'], parse_dates = [[0, 1]], date_parser=lambda col: pd.to_datetime(col, utc=False),nrows = 100000)"
      ],
      "execution_count": null,
      "outputs": []
    },
    {
      "cell_type": "markdown",
      "metadata": {
        "id": "8OOUVvsIK852"
      },
      "source": [
        "# **Calculate Signal**"
      ]
    },
    {
      "cell_type": "code",
      "metadata": {
        "id": "3lTVj811LBd0"
      },
      "source": [
        "pip = 10\n",
        "timeframe = 30\n",
        "lookback_period  = 100\n",
        "BATCH_SIZE = 32\n",
        "lstm_units = 7\n",
        "lr = 0.000001\n",
        "epoches = 300\n",
        "dx = \tpip/10000\n",
        "df['TimeframeDiff'] = df['BC'] - df['BC'].shift(timeframe)\n",
        "df['TimeframeDiff'] = df['TimeframeDiff'].shift(-timeframe,fill_value = 0)\n",
        "df['Signal'] = np.select([df['TimeframeDiff'] > dx,df['TimeframeDiff']<-dx],[1,-1],default = 0)"
      ],
      "execution_count": null,
      "outputs": []
    },
    {
      "cell_type": "markdown",
      "metadata": {
        "id": "OMn_mt1VfH2B"
      },
      "source": [
        "# **Import Features**"
      ]
    },
    {
      "cell_type": "code",
      "metadata": {
        "id": "MwT_vYgfy9h6"
      },
      "source": [
        "from ta.trend import sma_indicator as sma\n",
        "sma_close = sma(df['BC'] , 10,fillna= True)"
      ],
      "execution_count": null,
      "outputs": []
    },
    {
      "cell_type": "code",
      "metadata": {
        "id": "9mGHzGlBpV7X"
      },
      "source": [
        "from ta.trend import macd\n",
        "macd_close = macd(df['BC'],window_fast = 12, window_slow = 26,fillna = True)"
      ],
      "execution_count": null,
      "outputs": []
    },
    {
      "cell_type": "code",
      "metadata": {
        "id": "esLABz1JgUZ2"
      },
      "source": [
        "from ta.trend import cci\n",
        "cci_close = cci(df['BH'],df['BL'], df['BC'] , window = 20 , fillna = True)"
      ],
      "execution_count": null,
      "outputs": []
    },
    {
      "cell_type": "code",
      "metadata": {
        "id": "1npZ9UIbdrqe"
      },
      "source": [
        "from ta.momentum import roc\n",
        "roc_close = roc(df['BC'],window = 2,fillna= True)"
      ],
      "execution_count": null,
      "outputs": []
    },
    {
      "cell_type": "code",
      "metadata": {
        "id": "8w3VJlrD26gi"
      },
      "source": [
        "from ta.momentum import rsi\n",
        "rsi_close  = rsi(df['BC'] ,window = 14, fillna = True) "
      ],
      "execution_count": null,
      "outputs": []
    },
    {
      "cell_type": "code",
      "metadata": {
        "id": "ENEKQxGOecCa"
      },
      "source": [
        "from ta.volatility import bollinger_mavg as bb\n",
        "bb_close  = bb(df['BC'] , window = 20 , fillna = True)"
      ],
      "execution_count": null,
      "outputs": []
    },
    {
      "cell_type": "code",
      "metadata": {
        "id": "5KmdNNrCfcg9"
      },
      "source": [
        "feature_list  = [df['TimeframeDiff'],sma_close , macd_close , roc_close , rsi_close , bb_close , cci_close ]"
      ],
      "execution_count": null,
      "outputs": []
    },
    {
      "cell_type": "markdown",
      "metadata": {
        "id": "z1Frx11uPLnK"
      },
      "source": [
        "# **Combining all features together to input array**"
      ]
    },
    {
      "cell_type": "code",
      "metadata": {
        "id": "HtLpLV53PIkh"
      },
      "source": [
        "Combination = pd.concat(feature_list,axis = 1)\n",
        "\n",
        "Combination.fillna(0, inplace=True)"
      ],
      "execution_count": null,
      "outputs": []
    },
    {
      "cell_type": "code",
      "metadata": {
        "id": "NcDvtdtQnRap"
      },
      "source": [
        "Combination_array = pd.DataFrame.to_numpy(Combination)\n",
        "\n",
        "n_features = Combination_array.shape[1]"
      ],
      "execution_count": null,
      "outputs": []
    },
    {
      "cell_type": "code",
      "metadata": {
        "id": "YgCPciQw_8Qv"
      },
      "source": [
        "data = Combination_array"
      ],
      "execution_count": null,
      "outputs": []
    },
    {
      "cell_type": "code",
      "metadata": {
        "id": "5f38RLDF5Mmd"
      },
      "source": [
        "plot_data = data[:, 0]"
      ],
      "execution_count": null,
      "outputs": []
    },
    {
      "cell_type": "code",
      "metadata": {
        "colab": {
          "base_uri": "https://localhost:8080/",
          "height": 606
        },
        "id": "ez9hbSfH5P0P",
        "outputId": "37989d5d-873a-43c1-e510-99321eb24382"
      },
      "source": [
        "fig = plt.figure(figsize=(20,10))\n",
        "plt.ylabel(\"TimeframeDiff\")\n",
        "plt.xlabel(\"Time\")\n",
        "plt.plot(plot_data, color = 'blue', label = 'Training Set')\n",
        "plt.show()"
      ],
      "execution_count": null,
      "outputs": []
    },
    {
      "cell_type": "code",
      "metadata": {
        "id": "AhgbRk79Bv7K",
        "colab": {
          "base_uri": "https://localhost:8080/"
        },
        "outputId": "677f055f-e023-44c5-8ee2-5d2b3221d09d"
      },
      "source": [
        "from statsmodels.tsa.stattools import adfuller\n",
        "result = adfuller(data[:,0])\n",
        "print('ADF Statistic: %f' % result[0])\n",
        "print('p-value: %f' % result[1])\n",
        "print('Critical Values:')\n",
        "for key, value in result[4].items():\n",
        "\tprint('\\t%s: %.3f' % (key, value))"
      ],
      "execution_count": null,
      "outputs": []
    },
    {
      "cell_type": "markdown",
      "metadata": {
        "id": "MAI94EZND3vG"
      },
      "source": [
        "# **Function for generating data with sliding window**\n"
      ]
    },
    {
      "cell_type": "code",
      "metadata": {
        "id": "iWpSHqGoD8jE"
      },
      "source": [
        "def data_generator_diff(data, signal,start, finish, lookback_period , timeframe ,dx):\n",
        "    data = data[start:finish]\n",
        "    \n",
        "    X_data = []\n",
        "    y_data = []\n",
        "    \n",
        "    for i in range(0, len(data)-lookback_period-timeframe+1):\n",
        "        X_data.append(data[i:i+lookback_period-1, :n_features]) \n",
        "        if signal[i+lookback_period] == 1:\n",
        "            y_data.append(2)\n",
        "        elif signal[i+lookback_period] == -1:\n",
        "            y_data.append(1)\n",
        "        else:\n",
        "            y_data.append(0) \n",
        "    \n",
        "    X_data , y_data = np.array(X_data), np.array(y_data)\n",
        "\n",
        "        \n",
        "    X_data = np.reshape(X_data, (X_data.shape[0], X_data.shape[1], n_features)) \n",
        "    \n",
        "    sc = MinMaxScaler(feature_range = (0, 1))\n",
        "    \n",
        "    for i in range(X_data.shape[0]):\n",
        "        temp = X_data[i,:,0].reshape(-1,1)\n",
        "        temp = sc.fit_transform(temp)\n",
        "        X_data[i,:,0] = temp[:,0]\n",
        "    \n",
        "    return X_data , y_data"
      ],
      "execution_count": null,
      "outputs": []
    },
    {
      "cell_type": "code",
      "metadata": {
        "id": "l9BAT9K_AC0Z"
      },
      "source": [
        "signal = df['Signal'].values"
      ],
      "execution_count": null,
      "outputs": []
    },
    {
      "cell_type": "markdown",
      "metadata": {
        "id": "ngu3kLJF5BxX"
      },
      "source": [
        "# **Generate train set and test set**"
      ]
    },
    {
      "cell_type": "code",
      "metadata": {
        "id": "fghkZuTA4930"
      },
      "source": [
        "train_start = 0\n",
        "train_end = math.floor(0.8*Combination_array.shape[0])\n",
        "val_start = train_end\n",
        "val_end = math.floor(0.9*Combination_array.shape[0])\n",
        "test_start = val_end\n",
        "test_end = Combination_array.shape[0]\n",
        "X_train , y_train = data_generator_diff(data,signal, train_start, train_end , lookback_period ,timeframe , dx)\n",
        "X_val , y_val  = data_generator_diff(data,signal, val_start, val_end , lookback_period ,timeframe , dx)\n",
        "X_test , y_test = data_generator_diff(data,signal, test_start, test_end, lookback_period ,timeframe,dx)"
      ],
      "execution_count": null,
      "outputs": []
    },
    {
      "cell_type": "markdown",
      "metadata": {
        "id": "Ey7CYGbdAHI9"
      },
      "source": [
        "# **Shuffle train data**"
      ]
    },
    {
      "cell_type": "code",
      "metadata": {
        "id": "lgXIuOulAKeX"
      },
      "source": [
        "X_train, y_train = shuffle(X_train, y_train)"
      ],
      "execution_count": null,
      "outputs": []
    },
    {
      "cell_type": "markdown",
      "metadata": {
        "id": "9gFTwKgk5jN_"
      },
      "source": [
        "# **Plotting**"
      ]
    },
    {
      "cell_type": "markdown",
      "metadata": {
        "id": "Q5xpD_Y5mEwg"
      },
      "source": [
        "# **Plotting train and test set**"
      ]
    },
    {
      "cell_type": "code",
      "metadata": {
        "id": "7xHH1QWNmT7j",
        "colab": {
          "base_uri": "https://localhost:8080/",
          "height": 606
        },
        "outputId": "2af25ce6-9ae5-40e3-c86c-6550d9829be2"
      },
      "source": [
        "train_set = df.iloc[train_start:train_end , [3]]\n",
        "\n",
        "fig = plt.figure(figsize=(20,10))\n",
        "plt.ylabel(\"SPY\")\n",
        "plt.xlabel(\"Time\")\n",
        "plt.plot(train_set, color = 'blue', label = 'Training Set')\n",
        "plt.show()"
      ],
      "execution_count": null,
      "outputs": []
    },
    {
      "cell_type": "code",
      "metadata": {
        "id": "0St9duxzumCV",
        "colab": {
          "base_uri": "https://localhost:8080/",
          "height": 606
        },
        "outputId": "e4aac0a0-05cf-41fa-8592-ec5dbb4c8261"
      },
      "source": [
        "test_set = df.iloc[test_start:test_end , [3]]\n",
        "\n",
        "fig = plt.figure(figsize=(20,10))\n",
        "plt.ylabel(\"SPY\")\n",
        "plt.xlabel(\"Time\")\n",
        "plt.plot(test_set, color = 'red', label = 'Test Set')\n",
        "plt.show()"
      ],
      "execution_count": null,
      "outputs": []
    },
    {
      "cell_type": "markdown",
      "metadata": {
        "id": "makb4NjBPUMG"
      },
      "source": [
        "# **Training the network**"
      ]
    },
    {
      "cell_type": "markdown",
      "metadata": {
        "id": "oKvYv9WmT1zR"
      },
      "source": [
        "# **Model Architecture**"
      ]
    },
    {
      "cell_type": "code",
      "metadata": {
        "id": "6dqqJUmuxWdu",
        "colab": {
          "base_uri": "https://localhost:8080/"
        },
        "outputId": "ab272d10-874b-462a-f058-3adbfb967019"
      },
      "source": [
        "model = Sequential()\n",
        "\n",
        "model.add(LSTM(units= lstm_units,input_shape = (X_train.shape[1],n_features)))\n",
        "model.add(Dropout(0.1))\n",
        "\n",
        "model.add(Dense(units = 3,activation = 'softmax'))\n",
        "\n",
        "opt = tf.keras.optimizers.Adam(learning_rate= lr)\n",
        "\n",
        "model.compile(optimizer = opt, loss='sparse_categorical_crossentropy', metrics=['acc'])\n",
        "\n",
        "print(model.summary())\n",
        "\n",
        "es = EarlyStopping(monitor = 'val_acc', mode= 'auto',patience=10)\n",
        "\n",
        "my_callbacks = [es]\n",
        "\n",
        "history = model.fit(X_train, y_train \n",
        "          ,epochs = epoches\n",
        "          ,batch_size = BATCH_SIZE\n",
        "          ,validation_data=(X_val, y_val)\n",
        "          ,callbacks = my_callbacks\n",
        "          )\n",
        "\n",
        "model.save('/content/drive/MyDrive/agr/Models/my_model.h5')"
      ],
      "execution_count": null,
      "outputs": []
    },
    {
      "cell_type": "markdown",
      "metadata": {
        "id": "pfzPmGH9T-fR"
      },
      "source": [
        "# **Plotting losses and accuracy**"
      ]
    },
    {
      "cell_type": "code",
      "metadata": {
        "id": "5MP14BVOxYey",
        "colab": {
          "base_uri": "https://localhost:8080/",
          "height": 295
        },
        "outputId": "4eaa90c7-6194-4b78-e961-b6bb2a3d6199"
      },
      "source": [
        "loss = history.history['loss']\n",
        "val_loss = history.history['val_loss']\n",
        "epochs = range(1, len(loss) + 1)\n",
        "plt.plot(epochs, loss, 'bo', label='Training loss')\n",
        "plt.plot(epochs, val_loss, 'b', label='Validation loss')\n",
        "plt.title('Training and validation loss')\n",
        "plt.xlabel('Epochs')\n",
        "plt.ylabel('Loss')\n",
        "plt.legend()\n",
        "plt.show()"
      ],
      "execution_count": null,
      "outputs": []
    },
    {
      "cell_type": "code",
      "metadata": {
        "id": "238f7-1CxZnY",
        "colab": {
          "base_uri": "https://localhost:8080/",
          "height": 295
        },
        "outputId": "fa48200d-e09d-4f39-e552-a8345bd7e96f"
      },
      "source": [
        "plt.clf()\n",
        "acc = history.history['acc']\n",
        "val_acc = history.history['val_acc']\n",
        "plt.plot(epochs, acc, 'bo', label='Training acc')\n",
        "plt.plot(epochs, val_acc, 'r', label='Validation acc')\n",
        "plt.title('Training and validation accuracy')\n",
        "plt.xlabel('Epochs')\n",
        "plt.ylabel('Accuracy')\n",
        "plt.legend()\n",
        "plt.show()"
      ],
      "execution_count": null,
      "outputs": []
    },
    {
      "cell_type": "markdown",
      "metadata": {
        "id": "-ABI8euKUXdB"
      },
      "source": [
        "# **Accuracy-Loss on Test set**"
      ]
    },
    {
      "cell_type": "code",
      "metadata": {
        "id": "jeGfRO8tMxq4",
        "colab": {
          "base_uri": "https://localhost:8080/"
        },
        "outputId": "3f07a553-4428-484b-eff5-fa33269e49fc"
      },
      "source": [
        "results = model.evaluate(X_test, y_test, batch_size= BATCH_SIZE)\n",
        "print(\"test loss, test acc:\", results)"
      ],
      "execution_count": null,
      "outputs": []
    }
  ]
}